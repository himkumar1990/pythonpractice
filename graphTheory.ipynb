{
  "nbformat": 4,
  "nbformat_minor": 0,
  "metadata": {
    "colab": {
      "provenance": [],
      "authorship_tag": "ABX9TyPtf4RjQ96DhD6ccm4L3YdM",
      "include_colab_link": true
    },
    "kernelspec": {
      "name": "python3",
      "display_name": "Python 3"
    },
    "language_info": {
      "name": "python"
    }
  },
  "cells": [
    {
      "cell_type": "markdown",
      "metadata": {
        "id": "view-in-github",
        "colab_type": "text"
      },
      "source": [
        "<a href=\"https://colab.research.google.com/github/himkumar1990/pythonpractice/blob/master/graphTheory.ipynb\" target=\"_parent\"><img src=\"https://colab.research.google.com/assets/colab-badge.svg\" alt=\"Open In Colab\"/></a>"
      ]
    },
    {
      "cell_type": "code",
      "source": [
        "class Queue:\n",
        "\n",
        "    def __init__(self):\n",
        "      self.queue = []\n",
        "\n",
        "    def addq(self, v):\n",
        "      self.queue.append(v)\n",
        "\n",
        "    def delq(self):\n",
        "      v = None\n",
        "      if not self.isempty():\n",
        "        v = self.queue[0]\n",
        "        self.queue = self.queue[1:]\n",
        "      return v\n",
        "\n",
        "    def isempty(self):\n",
        "      if self.queue == []:\n",
        "        return True\n",
        "      else:\n",
        "        return False\n",
        "\n"
      ],
      "metadata": {
        "id": "Mrw4BAaDZnE2"
      },
      "execution_count": 20,
      "outputs": []
    },
    {
      "cell_type": "code",
      "execution_count": 36,
      "metadata": {
        "id": "_Ps-EiVKWiWe"
      },
      "outputs": [],
      "source": [
        "def neighbours(Amat,r):\n",
        "  neigh = []\n",
        "  (rows,columns) = len(Amat), len(Amat)\n",
        "\n",
        "  for c in range(columns):\n",
        "    if Amat[r][c] == 1:\n",
        "      neigh.append(c)\n",
        "  return neigh\n",
        "\n",
        "def bfsAmatPath(Amat,v):\n",
        "  (visited,parent) = ({},{})\n",
        "  (rows, columns) = len(Amat), len(Amat)\n",
        "\n",
        "  for i in range(rows):\n",
        "    visited[i] = False\n",
        "    parent[i] = -1\n",
        "\n",
        "  #print(parent)\n",
        "  q = Queue()\n",
        "  q.addq(v)\n",
        "  visited[v] = True\n",
        "\n",
        "  while (not q.isempty()):\n",
        "     j = q.delq()\n",
        "     #print(neighbours(Amat,j))\n",
        "     for k in neighbours(Amat,j):\n",
        "        if not visited[k]:\n",
        "          q.addq(k)\n",
        "          visited[k] = True\n",
        "          parent[k] = j\n",
        "\n",
        "\n",
        "  return (visited,parent)\n"
      ]
    },
    {
      "cell_type": "code",
      "source": [
        "Amat = [\n",
        "        [0, 1, 1, 0, 0, 0, 0],\n",
        "        [1, 0, 1, 1, 1, 1, 0],\n",
        "        [1, 1, 0, 1, 1, 1, 0],\n",
        "        [0, 1, 1, 0, 1, 0, 0],\n",
        "        [0, 1, 1, 1, 0, 1, 0],\n",
        "        [0, 1, 1, 0, 1, 0, 1],\n",
        "        [0, 0, 0, 0, 0, 1, 0],\n",
        "       ]\n",
        "\n",
        "print(bfsAmatPath(Amat,0))\n",
        "\n",
        "def findConnectionLevel(v,Amat,p1,p2):\n",
        "   (visited,parent) = bfsAmatPath(Amat,p1)\n",
        "\n",
        "   if not visited[p2]:\n",
        "      return 0\n",
        "   else:\n",
        "    level = 0\n",
        "    currentParent = parent[p2]\n",
        "    while currentParent != -1:\n",
        "      currentParent = parent[currentParent]\n",
        "      level += 1\n",
        "    return level\n",
        "\n",
        "print(findConnectionLevel(7,Amat,0,6))"
      ],
      "metadata": {
        "colab": {
          "base_uri": "https://localhost:8080/"
        },
        "id": "9YrLEEVufxPN",
        "outputId": "fcad770d-db53-4d3c-f338-476d59df9493"
      },
      "execution_count": 38,
      "outputs": [
        {
          "output_type": "stream",
          "name": "stdout",
          "text": [
            "({0: True, 1: True, 2: True, 3: True, 4: True, 5: True, 6: True}, {0: -1, 1: 0, 2: 0, 3: 1, 4: 1, 5: 1, 6: 5})\n",
            "3\n"
          ]
        }
      ]
    }
  ]
}